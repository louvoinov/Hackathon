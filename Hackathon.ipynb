{
 "cells": [
  {
   "cell_type": "code",
   "execution_count": 1,
   "id": "56e731ec",
   "metadata": {},
   "outputs": [],
   "source": [
    "import numpy as np"
   ]
  },
  {
   "cell_type": "code",
   "execution_count": 2,
   "id": "1d031324",
   "metadata": {},
   "outputs": [],
   "source": [
    "cap = 5\n",
    "doc = 50\n",
    "hosp = 10"
   ]
  },
  {
   "cell_type": "code",
   "execution_count": 3,
   "id": "5e5031b6",
   "metadata": {},
   "outputs": [],
   "source": [
    "import random"
   ]
  },
  {
   "cell_type": "code",
   "execution_count": 71,
   "id": "034e6172",
   "metadata": {},
   "outputs": [],
   "source": [
    "mat2 = np.empty((doc,hosp))\n",
    "for i in range(10):\n",
    "    mat2[i,:]=np.array(random.sample(range(10),10))\n",
    "    "
   ]
  },
  {
   "cell_type": "code",
   "execution_count": 72,
   "id": "b7a619de",
   "metadata": {},
   "outputs": [],
   "source": [
    "mat2 = mat2 + np.ones((doc,hosp))"
   ]
  },
  {
   "cell_type": "code",
   "execution_count": 97,
   "id": "c6665646",
   "metadata": {},
   "outputs": [],
   "source": [
    "## adding the rows and columns for supply and demand"
   ]
  },
  {
   "cell_type": "code",
   "execution_count": 84,
   "id": "5f37bb52",
   "metadata": {},
   "outputs": [],
   "source": [
    "capacities = np.full((1,hosp), cap) #demand"
   ]
  },
  {
   "cell_type": "code",
   "execution_count": 85,
   "id": "b27baa2e",
   "metadata": {},
   "outputs": [
    {
     "data": {
      "text/plain": [
       "(1, 10)"
      ]
     },
     "execution_count": 85,
     "metadata": {},
     "output_type": "execute_result"
    }
   ],
   "source": [
    "capacities.shape"
   ]
  },
  {
   "cell_type": "code",
   "execution_count": 86,
   "id": "63f5414a",
   "metadata": {},
   "outputs": [
    {
     "data": {
      "text/plain": [
       "(50, 10)"
      ]
     },
     "execution_count": 86,
     "metadata": {},
     "output_type": "execute_result"
    }
   ],
   "source": [
    "mat2.shape"
   ]
  },
  {
   "cell_type": "code",
   "execution_count": 87,
   "id": "f623e01d",
   "metadata": {},
   "outputs": [],
   "source": [
    "mat2= np.append(mat2, capacities, axis=0)"
   ]
  },
  {
   "cell_type": "code",
   "execution_count": 93,
   "id": "7e9da9c7",
   "metadata": {},
   "outputs": [],
   "source": [
    "doctors = np.full((doc+1,1), 1) #supply\n",
    "doctors[:,-1]=50"
   ]
  },
  {
   "cell_type": "code",
   "execution_count": 94,
   "id": "3b86d4a3",
   "metadata": {
    "scrolled": true
   },
   "outputs": [
    {
     "data": {
      "text/plain": [
       "(51, 1)"
      ]
     },
     "execution_count": 94,
     "metadata": {},
     "output_type": "execute_result"
    }
   ],
   "source": [
    "doctors.shape"
   ]
  },
  {
   "cell_type": "code",
   "execution_count": 95,
   "id": "e6d2235a",
   "metadata": {},
   "outputs": [],
   "source": [
    "mat2= np.append(mat2, doctors, axis=1)"
   ]
  },
  {
   "cell_type": "code",
   "execution_count": 96,
   "id": "7aa52c7c",
   "metadata": {},
   "outputs": [
    {
     "data": {
      "text/plain": [
       "(51, 11)"
      ]
     },
     "execution_count": 96,
     "metadata": {},
     "output_type": "execute_result"
    }
   ],
   "source": [
    "mat2.shape"
   ]
  },
  {
   "cell_type": "markdown",
   "id": "f43b3421",
   "metadata": {},
   "source": [
    "### Least Cost Cell Method"
   ]
  },
  {
   "cell_type": "markdown",
   "id": "287acc1a",
   "metadata": {},
   "source": [
    "Step 1: Find the cell with lowest cost. We have many (every doctor chose a hospital in 1st place). In the algorithm, we are supposed to choose the one with the lowest demand supply difference (ie everyone gets assigned). However, here, all of our hospitals are at the same capacity."
   ]
  },
  {
   "cell_type": "code",
   "execution_count": null,
   "id": "5bd29e8e",
   "metadata": {},
   "outputs": [],
   "source": []
  }
 ],
 "metadata": {
  "kernelspec": {
   "display_name": "Python 3 (ipykernel)",
   "language": "python",
   "name": "python3"
  },
  "language_info": {
   "codemirror_mode": {
    "name": "ipython",
    "version": 3
   },
   "file_extension": ".py",
   "mimetype": "text/x-python",
   "name": "python",
   "nbconvert_exporter": "python",
   "pygments_lexer": "ipython3",
   "version": "3.10.2"
  }
 },
 "nbformat": 4,
 "nbformat_minor": 5
}
