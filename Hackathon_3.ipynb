{
 "cells": [
  {
   "cell_type": "code",
   "execution_count": 133,
   "id": "5e5031b6",
   "metadata": {},
   "outputs": [],
   "source": [
    "import random\n",
    "import numpy as np"
   ]
  },
  {
   "cell_type": "markdown",
   "id": "e30bcd92",
   "metadata": {},
   "source": [
    "# Hospital-Doctor Assignment Problem"
   ]
  },
  {
   "cell_type": "code",
   "execution_count": 141,
   "id": "1d031324",
   "metadata": {},
   "outputs": [],
   "source": [
    "cap = 5\n",
    "doc_n = 50\n",
    "hosp_n = 10"
   ]
  },
  {
   "cell_type": "code",
   "execution_count": 148,
   "id": "034e6172",
   "metadata": {},
   "outputs": [],
   "source": [
    "mat2 = np.empty([doc_n,hosp_n])\n",
    "for i in range(doc_n):\n",
    "    mat2[i,:]=np.array(random.sample(range(hosp_n),hosp_n))  \n",
    "mat2 = mat2 + np.ones((doc_n,hosp_n))"
   ]
  },
  {
   "cell_type": "code",
   "execution_count": 149,
   "id": "d045816b",
   "metadata": {
    "scrolled": true
   },
   "outputs": [
    {
     "data": {
      "text/plain": [
       "array([[ 4.,  9.,  8.,  6.,  1.,  3.,  2., 10.,  5.,  7.],\n",
       "       [10.,  2.,  7.,  8.,  3.,  6.,  4.,  9.,  1.,  5.],\n",
       "       [ 6.,  2.,  9., 10.,  4.,  3.,  8.,  5.,  1.,  7.],\n",
       "       [ 4.,  6.,  7., 10.,  9.,  3.,  5.,  8.,  1.,  2.],\n",
       "       [ 1.,  5.,  3.,  7.,  6.,  4.,  8.,  2.,  9., 10.],\n",
       "       [ 5.,  2.,  7., 10.,  4.,  6.,  1.,  9.,  8.,  3.],\n",
       "       [ 6.,  8.,  1.,  3.,  7., 10.,  9.,  4.,  2.,  5.],\n",
       "       [ 5.,  9., 10.,  1.,  6.,  2.,  3.,  8.,  7.,  4.],\n",
       "       [ 3.,  8., 10.,  1.,  9.,  2.,  6.,  4.,  5.,  7.],\n",
       "       [ 7., 10.,  3.,  1.,  5.,  6.,  8.,  4.,  2.,  9.],\n",
       "       [ 2.,  3.,  7.,  1.,  8., 10.,  5.,  4.,  9.,  6.],\n",
       "       [ 1.,  3.,  6.,  8.,  5.,  7.,  4.,  2., 10.,  9.],\n",
       "       [ 2.,  9.,  6.,  7.,  1.,  3.,  4.,  5., 10.,  8.],\n",
       "       [10.,  3.,  6.,  9.,  1.,  2.,  4.,  5.,  7.,  8.],\n",
       "       [ 4., 10.,  8.,  5.,  6.,  1.,  7.,  2.,  9.,  3.],\n",
       "       [ 3.,  5.,  4.,  2.,  6.,  8., 10.,  9.,  1.,  7.],\n",
       "       [ 5.,  7.,  2.,  9.,  1., 10.,  6.,  3.,  4.,  8.],\n",
       "       [ 2.,  8.,  1.,  3., 10.,  9.,  6.,  4.,  7.,  5.],\n",
       "       [ 8.,  7.,  1.,  2.,  4.,  5.,  6., 10.,  3.,  9.],\n",
       "       [ 5., 10.,  4.,  3.,  7.,  8.,  9.,  1.,  6.,  2.],\n",
       "       [ 8.,  5.,  2.,  7., 10.,  9.,  1.,  6.,  4.,  3.],\n",
       "       [ 3., 10.,  5.,  4.,  8.,  9.,  6.,  1.,  2.,  7.],\n",
       "       [ 7., 10.,  2.,  6.,  9.,  5.,  3.,  4.,  8.,  1.],\n",
       "       [ 3.,  7.,  9.,  8.,  4., 10.,  1.,  5.,  2.,  6.],\n",
       "       [ 4.,  9.,  6.,  3.,  8.,  1.,  5., 10.,  7.,  2.],\n",
       "       [ 3.,  9.,  6.,  7.,  1., 10.,  8.,  4.,  2.,  5.],\n",
       "       [ 3.,  8.,  9., 10.,  4.,  7.,  5.,  1.,  2.,  6.],\n",
       "       [ 7.,  5.,  3., 10.,  8.,  6.,  9.,  2.,  4.,  1.],\n",
       "       [ 8.,  5.,  3.,  4.,  7.,  2.,  9., 10.,  1.,  6.],\n",
       "       [ 8.,  4.,  5.,  1.,  9.,  2.,  3.,  6., 10.,  7.],\n",
       "       [ 9.,  5.,  7.,  1.,  8., 10.,  6.,  4.,  2.,  3.],\n",
       "       [ 4.,  7.,  1.,  5., 10.,  2.,  8.,  9.,  6.,  3.],\n",
       "       [ 1.,  6.,  5.,  4.,  3.,  8.,  2., 10.,  7.,  9.],\n",
       "       [ 1., 10.,  8.,  4.,  7.,  3.,  6.,  9.,  2.,  5.],\n",
       "       [ 9.,  4.,  7.,  5.,  1.,  6.,  8.,  2.,  3., 10.],\n",
       "       [ 1.,  7.,  9.,  8.,  5.,  6.,  3.,  4., 10.,  2.],\n",
       "       [ 8.,  5., 10.,  9.,  4.,  3.,  7.,  1.,  2.,  6.],\n",
       "       [10.,  8.,  7.,  4.,  3.,  5.,  9.,  6.,  1.,  2.],\n",
       "       [ 7.,  1.,  2., 10.,  3.,  9.,  6.,  5.,  4.,  8.],\n",
       "       [ 1., 10.,  4.,  3.,  8.,  6.,  2.,  5.,  9.,  7.],\n",
       "       [ 3., 10.,  8.,  5.,  2.,  7.,  6.,  4.,  1.,  9.],\n",
       "       [ 7.,  3.,  8.,  2.,  1.,  6., 10.,  5.,  9.,  4.],\n",
       "       [ 3.,  9.,  6.,  1.,  5.,  7., 10.,  4.,  8.,  2.],\n",
       "       [ 2.,  5., 10.,  4.,  6.,  7.,  9.,  8.,  3.,  1.],\n",
       "       [ 7.,  8.,  3.,  5.,  1.,  4.,  9., 10.,  6.,  2.],\n",
       "       [ 1.,  2.,  7.,  5.,  9.,  8., 10.,  4.,  6.,  3.],\n",
       "       [ 8.,  7.,  5.,  6.,  4.,  1.,  9., 10.,  2.,  3.],\n",
       "       [10.,  6.,  7.,  2.,  5.,  8.,  4.,  1.,  9.,  3.],\n",
       "       [ 1.,  8.,  2.,  6.,  5., 10.,  4.,  7.,  3.,  9.],\n",
       "       [ 1.,  6.,  3.,  7.,  9.,  5.,  2.,  4., 10.,  8.]])"
      ]
     },
     "execution_count": 149,
     "metadata": {},
     "output_type": "execute_result"
    }
   ],
   "source": [
    "mat2"
   ]
  },
  {
   "cell_type": "markdown",
   "id": "9766ca8b",
   "metadata": {},
   "source": [
    "We decided to start assigning doctors from the least preffered hospital, as defined as the hospital with the highest sum of rankings, ie the one that, when assigned, would make the most doctors unhappy. Once this hospital chosen, we assign to it the doctor who wants it the most (lowest rank, closest to 1). Since this doctor has now been assigned, we \"remove\" them from consideration in the matrix by assigning very large numbers to that row (so they will never be picked again - a doctor will always have a lower rank than the one just assigned). We take into account the new assignment and remove 1 from said hospital's capacity. \n",
    "\n",
    "We iterate this process until every doctor has a hospital. Every time, we check the capacity of the hospital that has just been picked as having the highest rank. If it is full, we \"cancel out\" this hospital from future consideration by assigning any unpicked doctors preference as a very negative number (so that the rank will never have a sum bigger than a hospital not at capacity, and thus not be picked in the future). \n",
    "\n",
    "By the end of the loop, every doctor is assigned to a hospital. We then filter out the indices that correspond to assignements, setting them as 1, and assign 0 elsewhere. This matrix now holds the correspondance between each doctor and their assigned hospital (represented by the indices in the matrix, simply). \n",
    "\n",
    "We are interested in how well assignments were performed. To do so, we multiply the matrix described above with the input matrix. This reveals the rank that each doctor had put for their assigned hospital. This allows us to check the score of the algorithm, by doing the sum. The closer this value is to the number of doctors times their number one rank (the optimal case, ie every doctor is assigned to their number one choice), the better the algorithm performed. \n"
   ]
  },
  {
   "cell_type": "code",
   "execution_count": 150,
   "id": "11f06479",
   "metadata": {},
   "outputs": [],
   "source": [
    "def master_function(mat2, cap, doc_n, hosp_n):\n",
    "    # mat2: matrix with each row representing a docotor, and each column a hospital, filled with the hopsital rankings\n",
    "    # cap: the hopsitals' capacities (same for each one)\n",
    "    # doc_n: the total number of doctors\n",
    "    # hosp_n: the total number of hospitals\n",
    "    \n",
    "    # add a row with the capacities of each hospital at the end of the matrix\n",
    "    capacities = np.full((1,hosp_n), cap) \n",
    "    mat2= np.append(mat2, capacities, axis=0)\n",
    "    \n",
    "    #make a copy of the matrix for future reference\n",
    "    mat= mat2.copy()\n",
    "\n",
    "    #before entering the loop, create initial values (choose least preffered hospital)\n",
    "    mat3 = np.sum(mat2[:-1,:],0) \n",
    "    hos = np.argmax(mat3)\n",
    "    num=0\n",
    "    \n",
    "    #loop over number of doctors\n",
    "    while (num < doc_n):\n",
    "        #check if the least preffered hospital is full\n",
    "        if(mat2[-1,hos] == 0 ):\n",
    "            # remove this hospital from further consideration\n",
    "            mat2[:-1,hos] = np.where(mat2[:-1,hos] < (hosp_n+1), -(hosp_n+1), mat2[:-1,hos])\n",
    "            #find the new least prefered hospital out of the remaining ones (not at capacity)\n",
    "            mat3 = np.sum(mat2[:-1,:],0)\n",
    "            #stores the indice of said hospital \n",
    "            hos = np.argmax(mat3)\n",
    "        \n",
    "        #if the hospital is not at capacity\n",
    "        else:\n",
    "            mat3 = np.sum(mat2[:-1,:],0)\n",
    "            hos = np.argmax(mat3)\n",
    "            mat2[-1,hos]-=1\n",
    "            #assign to the hospital the doctor with the highest preference\n",
    "            doc = np.argmin(mat2[:-1,hos])\n",
    "            #once assigned, remove the doctor from further consideration\n",
    "            mat2[doc,]=(hosp_n+doc_n/0.05 +1)\n",
    "            mat2[doc,hos]= (hosp_n+1)\n",
    "            num +=1\n",
    "    \n",
    "    #filter out of the matrix the indices that do not correspond to assigned doctors\n",
    "    mat2 = np.where(mat2[:-1,:] > (hosp+1), 0, 1)\n",
    "    #multiply this filtered matrix by the initial matrix\n",
    "    te = mat2*mat[:-1,:]\n",
    "    \n",
    "    #calculate the score of the result obtained \n",
    "    score = np.sum(np.sum(te[:-1,:],0))\n",
    "    \n",
    "    #create an array with the correspondance of each doctor to each hospital\n",
    "    results = np.empty((doc_n,2))\n",
    "    results[:,0]= np.where(te!=0)[0]\n",
    "    results[:,1]= np.where(te!=0)[1]\n",
    "    \n",
    "    #return the results, the score of the trial and the matrix of the correspondances with the initial ranks\n",
    "    return results, score, te"
   ]
  },
  {
   "cell_type": "code",
   "execution_count": 151,
   "id": "ac5a7e84",
   "metadata": {},
   "outputs": [],
   "source": [
    "results, score, te = master_function(mat2, cap, doc_n, hosp_n)"
   ]
  },
  {
   "cell_type": "code",
   "execution_count": 157,
   "id": "520ba426",
   "metadata": {},
   "outputs": [
    {
     "name": "stdout",
     "output_type": "stream",
     "text": [
      "1 38\n",
      "2 8\n",
      "3 2\n",
      "4 2\n",
      "5 0\n",
      "6 0\n",
      "7 0\n",
      "8 0\n",
      "9 0\n",
      "10 0\n"
     ]
    }
   ],
   "source": [
    "for i in range(1,11):\n",
    "    print(i, np.sum(te==i))\n"
   ]
  },
  {
   "cell_type": "code",
   "execution_count": 153,
   "id": "5728bf22",
   "metadata": {},
   "outputs": [
    {
     "data": {
      "text/plain": [
       "67.0"
      ]
     },
     "execution_count": 153,
     "metadata": {},
     "output_type": "execute_result"
    }
   ],
   "source": [
    "score"
   ]
  }
 ],
 "metadata": {
  "kernelspec": {
   "display_name": "Python 3 (ipykernel)",
   "language": "python",
   "name": "python3"
  },
  "language_info": {
   "codemirror_mode": {
    "name": "ipython",
    "version": 3
   },
   "file_extension": ".py",
   "mimetype": "text/x-python",
   "name": "python",
   "nbconvert_exporter": "python",
   "pygments_lexer": "ipython3",
   "version": "3.10.2"
  }
 },
 "nbformat": 4,
 "nbformat_minor": 5
}
