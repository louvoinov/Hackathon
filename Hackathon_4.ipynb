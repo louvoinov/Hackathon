{
 "cells": [
  {
   "cell_type": "code",
   "execution_count": 1,
   "id": "5e5031b6",
   "metadata": {},
   "outputs": [],
   "source": [
    "import random\n",
    "import numpy as np"
   ]
  },
  {
   "cell_type": "markdown",
   "id": "cde55224",
   "metadata": {},
   "source": [
    "# Hospital-Doctor Assignment Problem"
   ]
  },
  {
   "cell_type": "code",
   "execution_count": 3,
   "id": "60ce0e56",
   "metadata": {},
   "outputs": [],
   "source": [
    "def master_function(mat2, cap, doc_n, hosp_n):\n",
    "    # mat2: matrix with each row representing a docotor, and each column a hospital, filled with the hopsital rankings\n",
    "    # cap: the hopsitals' capacities (same for each one)\n",
    "    # doc_n: the total number of doctors\n",
    "    # hosp_n: the total number of hospitals\n",
    "    \n",
    "    # add a row with the capacities of each hospital at the end of the matrix\n",
    "    capacities = np.full((1,hosp_n), cap) \n",
    "    mat2= np.append(mat2, capacities, axis=0)\n",
    "    \n",
    "    #make a copy of the matrix for future reference\n",
    "    mat= mat2.copy()\n",
    "\n",
    "    #before entering the loop, create initial values (choose least preffered hospital)\n",
    "    mat3 = np.sum(mat2[:-1,:],0) \n",
    "    hos = np.argmax(mat3)\n",
    "    num=0\n",
    "    \n",
    "    #loop over number of doctors\n",
    "    while (num < doc_n):\n",
    "        #check if the least preffered hospital is full\n",
    "        if(mat2[-1,hos] == 0 ):\n",
    "            # remove this hospital from further consideration\n",
    "            mat2[:-1,hos] = np.where(mat2[:-1,hos] < (hosp_n+1), -(hosp_n+1), mat2[:-1,hos])\n",
    "            #find the new least prefered hospital out of the remaining ones (not at capacity)\n",
    "            mat3 = np.sum(mat2[:-1,:],0)\n",
    "            #stores the indice of said hospital \n",
    "            hos = np.argmax(mat3)\n",
    "        \n",
    "        #if the hospital is not at capacity\n",
    "        else:\n",
    "            mat3 = np.sum(mat2[:-1,:],0)\n",
    "            hos = np.argmax(mat3)\n",
    "            mat2[-1,hos]-=1\n",
    "            #assign to the hospital the doctor with the highest preference\n",
    "            doc = np.argmin(mat2[:-1,hos])\n",
    "            #once assigned, remove the doctor from further consideration\n",
    "            mat2[doc,]=(hosp_n+doc_n/0.05 +1)\n",
    "            mat2[doc,hos]= (hosp_n+1)\n",
    "            num +=1\n",
    "    \n",
    "    #filter out of the matrix the indices that do not correspond to assigned doctors\n",
    "    mat2 = np.where(mat2[:-1,:] > (hosp_n+1), 0, 1)\n",
    "    #multiply this filtered matrix by the initial matrix\n",
    "    te = mat2*mat[:-1,:]\n",
    "    \n",
    "    #calculate the score of the result obtained \n",
    "    score = np.sum(np.sum(te[:-1,:],0))\n",
    "    \n",
    "    #create an array with the correspondance of each doctor to each hospital\n",
    "    results = np.empty((doc_n,2))\n",
    "    results[:,0]= np.where(te!=0)[0]\n",
    "    results[:,1]= np.where(te!=0)[1]\n",
    "    \n",
    "    counts = np.empty(hosp_n)\n",
    "    for i in range(1,hosp_n+1):\n",
    "        counts[i-1]= np.sum(te==i)\n",
    "    counts = counts.astype(int)\n",
    "    \n",
    "    #return the results, the score of the trial and the matrix of the correspondances with the initial ranks\n",
    "    return results, score, counts"
   ]
  },
  {
   "cell_type": "code",
   "execution_count": null,
   "id": "30918d1f",
   "metadata": {},
   "outputs": [],
   "source": []
  }
 ],
 "metadata": {
  "kernelspec": {
   "display_name": "Python 3 (ipykernel)",
   "language": "python",
   "name": "python3"
  },
  "language_info": {
   "codemirror_mode": {
    "name": "ipython",
    "version": 3
   },
   "file_extension": ".py",
   "mimetype": "text/x-python",
   "name": "python",
   "nbconvert_exporter": "python",
   "pygments_lexer": "ipython3",
   "version": "3.10.2"
  }
 },
 "nbformat": 4,
 "nbformat_minor": 5
}
