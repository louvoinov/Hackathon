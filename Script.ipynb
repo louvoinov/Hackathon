{
 "cells": [
  {
   "cell_type": "code",
   "execution_count": 1,
   "id": "1a529170",
   "metadata": {},
   "outputs": [],
   "source": [
    "from ipynb.fs.defs.Hackathon_2 import master_function\n",
    "import numpy as np\n",
    "import random"
   ]
  },
  {
   "cell_type": "markdown",
   "id": "51e03346",
   "metadata": {},
   "source": [
    "We decided to start assigning doctors from the least preffered hospital, as defined as the hospital with the highest sum of rankings, ie the one that, when assigned, would make the most doctors unhappy. Once this hospital chosen, we assign to it the doctor who wants it the most (lowest rank, closest to 1). Since this doctor has now been assigned, we \"remove\" them from consideration in the matrix by assigning very large numbers to that row (so they will never be picked again - a doctor will always have a lower rank than the one just assigned). We take into account the new assignment and remove 1 from said hospital's capacity. \n",
    "\n",
    "We iterate this process until every doctor has a hospital. Every time, we check the capacity of the hospital that has just been picked as having the highest rank. If it is full, we \"cancel out\" this hospital from future consideration by assigning any unpicked doctors preference as a very negative number (so that the rank will never have a sum bigger than a hospital not at capacity, and thus not be picked in the future). \n",
    "\n",
    "By the end of the loop, every doctor is assigned to a hospital. We then filter out the indices that correspond to assignements, setting them as 1, and assign 0 elsewhere. This matrix now holds the correspondance between each doctor and their assigned hospital (represented by the indices in the matrix, simply). \n",
    "\n",
    "We are interested in how well assignments were performed. To do so, we multiply the matrix described above with the input matrix. This reveals the rank that each doctor had put for their assigned hospital. This allows us to check the score of the algorithm, by doing the sum. The closer this value is to the number of doctors times their number one rank (the optimal case, ie every doctor is assigned to their number one choice), the better the algorithm performed. \n",
    "\n"
   ]
  },
  {
   "cell_type": "markdown",
   "id": "7284907d",
   "metadata": {},
   "source": [
    "# Example"
   ]
  },
  {
   "cell_type": "code",
   "execution_count": 2,
   "id": "373461d6",
   "metadata": {},
   "outputs": [],
   "source": [
    "cap = 5\n",
    "doc_n = 50\n",
    "hosp_n = 10\n",
    "mat2 = np.empty([doc_n,hosp_n])\n",
    "for i in range(doc_n):\n",
    "    mat2[i,:]=np.array(random.sample(range(hosp_n),hosp_n))  \n",
    "mat2 = mat2 + np.ones((doc_n,hosp_n))"
   ]
  },
  {
   "cell_type": "code",
   "execution_count": 3,
   "id": "5db64cd1",
   "metadata": {},
   "outputs": [
    {
     "data": {
      "text/plain": [
       "(array([[ 0.,  5.],\n",
       "        [ 1.,  5.],\n",
       "        [ 2.,  1.],\n",
       "        [ 3.,  9.],\n",
       "        [ 4.,  4.],\n",
       "        [ 5.,  1.],\n",
       "        [ 6.,  3.],\n",
       "        [ 7.,  1.],\n",
       "        [ 8.,  8.],\n",
       "        [ 9.,  5.],\n",
       "        [10.,  5.],\n",
       "        [11.,  7.],\n",
       "        [12.,  1.],\n",
       "        [13.,  8.],\n",
       "        [14.,  7.],\n",
       "        [15.,  0.],\n",
       "        [16.,  2.],\n",
       "        [17.,  7.],\n",
       "        [18.,  7.],\n",
       "        [19.,  4.],\n",
       "        [20.,  6.],\n",
       "        [21.,  2.],\n",
       "        [22.,  2.],\n",
       "        [23.,  4.],\n",
       "        [24.,  4.],\n",
       "        [25.,  6.],\n",
       "        [26.,  1.],\n",
       "        [27.,  9.],\n",
       "        [28.,  9.],\n",
       "        [29.,  3.],\n",
       "        [30.,  0.],\n",
       "        [31.,  0.],\n",
       "        [32.,  4.],\n",
       "        [33.,  5.],\n",
       "        [34.,  3.],\n",
       "        [35.,  6.],\n",
       "        [36.,  8.],\n",
       "        [37.,  3.],\n",
       "        [38.,  0.],\n",
       "        [39.,  9.],\n",
       "        [40.,  6.],\n",
       "        [41.,  9.],\n",
       "        [42.,  0.],\n",
       "        [43.,  2.],\n",
       "        [44.,  2.],\n",
       "        [45.,  3.],\n",
       "        [46.,  6.],\n",
       "        [47.,  8.],\n",
       "        [48.,  7.],\n",
       "        [49.,  8.]]),\n",
       " 64.0,\n",
       " array([36, 12,  2,  0,  0,  0,  0,  0,  0,  0]))"
      ]
     },
     "execution_count": 3,
     "metadata": {},
     "output_type": "execute_result"
    }
   ],
   "source": [
    "master_function(mat2,cap,doc_n,hosp_n)"
   ]
  },
  {
   "cell_type": "code",
   "execution_count": null,
   "id": "aad7b80c",
   "metadata": {},
   "outputs": [],
   "source": []
  }
 ],
 "metadata": {
  "kernelspec": {
   "display_name": "Python 3 (ipykernel)",
   "language": "python",
   "name": "python3"
  },
  "language_info": {
   "codemirror_mode": {
    "name": "ipython",
    "version": 3
   },
   "file_extension": ".py",
   "mimetype": "text/x-python",
   "name": "python",
   "nbconvert_exporter": "python",
   "pygments_lexer": "ipython3",
   "version": "3.10.2"
  }
 },
 "nbformat": 4,
 "nbformat_minor": 5
}
